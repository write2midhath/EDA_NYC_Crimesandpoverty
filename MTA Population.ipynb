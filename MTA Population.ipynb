{
 "cells": [
  {
   "cell_type": "code",
   "execution_count": 1,
   "metadata": {},
   "outputs": [],
   "source": [
    "import pandas as pd\n",
    "import numpy as np\n",
    "import seaborn as sns\n",
    "import matplotlib.pyplot as plt"
   ]
  },
  {
   "cell_type": "code",
   "execution_count": 2,
   "metadata": {},
   "outputs": [],
   "source": [
    "population = pd.read_csv('NYC_neighborhood_census_data_2020.csv')"
   ]
  },
  {
   "cell_type": "code",
   "execution_count": 3,
   "metadata": {},
   "outputs": [
    {
     "data": {
      "text/html": [
       "<div>\n",
       "<style scoped>\n",
       "    .dataframe tbody tr th:only-of-type {\n",
       "        vertical-align: middle;\n",
       "    }\n",
       "\n",
       "    .dataframe tbody tr th {\n",
       "        vertical-align: top;\n",
       "    }\n",
       "\n",
       "    .dataframe thead th {\n",
       "        text-align: right;\n",
       "    }\n",
       "</style>\n",
       "<table border=\"1\" class=\"dataframe\">\n",
       "  <thead>\n",
       "    <tr style=\"text-align: right;\">\n",
       "      <th></th>\n",
       "      <th>Neighborhood</th>\n",
       "      <th>Born in New York State</th>\n",
       "      <th>Car-free commute (% of commuters)</th>\n",
       "      <th>Disabled population</th>\n",
       "      <th>FHAVA-backed home purchase loans (% of home purchase loans)</th>\n",
       "      <th>Foreign-born population</th>\n",
       "      <th>Higher-cost home purchase loans (% of home purchase loans)</th>\n",
       "      <th>Higher-cost refinance loans (% of refinance loans)</th>\n",
       "      <th>Home purchase loan rate (per 1,000 properties)</th>\n",
       "      <th>Home purchase loans in LMI tracts (% of home purchase loans)</th>\n",
       "      <th>...</th>\n",
       "      <th>Severely rent-burdened households</th>\n",
       "      <th>Severely rent-burdened households, low income</th>\n",
       "      <th>Severely rent-burdened households, moderate income</th>\n",
       "      <th>Single-person households</th>\n",
       "      <th>Students performing at grade level in English language arts, 4th grade</th>\n",
       "      <th>Students performing at grade level in math, 4th grade</th>\n",
       "      <th>Total housing code violations (per 1,000 privately owned rental units)</th>\n",
       "      <th>Unemployment rate</th>\n",
       "      <th>Units authorized by new residential building permits</th>\n",
       "      <th>Units issued new certificates of occupancy</th>\n",
       "    </tr>\n",
       "  </thead>\n",
       "  <tbody>\n",
       "    <tr>\n",
       "      <th>0</th>\n",
       "      <td>Greenpoint/Williamsburg</td>\n",
       "      <td>46.7</td>\n",
       "      <td>84.4</td>\n",
       "      <td>6.8</td>\n",
       "      <td>0.0</td>\n",
       "      <td>24.9</td>\n",
       "      <td>0.0</td>\n",
       "      <td>1.7</td>\n",
       "      <td>27.7</td>\n",
       "      <td>1.0</td>\n",
       "      <td>...</td>\n",
       "      <td>26.7</td>\n",
       "      <td>47.3</td>\n",
       "      <td>7.4</td>\n",
       "      <td>29.9</td>\n",
       "      <td>42.6</td>\n",
       "      <td>41.1</td>\n",
       "      <td>150.3</td>\n",
       "      <td>5.49</td>\n",
       "      <td>534</td>\n",
       "      <td>2311</td>\n",
       "    </tr>\n",
       "    <tr>\n",
       "      <th>1</th>\n",
       "      <td>Fort Greene/Brooklyn Heights</td>\n",
       "      <td>48.9</td>\n",
       "      <td>90.9</td>\n",
       "      <td>8.7</td>\n",
       "      <td>0.0</td>\n",
       "      <td>18.8</td>\n",
       "      <td>0.2</td>\n",
       "      <td>0.3</td>\n",
       "      <td>37.1</td>\n",
       "      <td>2.0</td>\n",
       "      <td>...</td>\n",
       "      <td>18.2</td>\n",
       "      <td>43.4</td>\n",
       "      <td>9.3</td>\n",
       "      <td>39.5</td>\n",
       "      <td>53.1</td>\n",
       "      <td>45.1</td>\n",
       "      <td>84.6</td>\n",
       "      <td>5.55</td>\n",
       "      <td>1364</td>\n",
       "      <td>2665</td>\n",
       "    </tr>\n",
       "    <tr>\n",
       "      <th>2</th>\n",
       "      <td>Bedford Stuyvesant</td>\n",
       "      <td>57.8</td>\n",
       "      <td>78.2</td>\n",
       "      <td>8.8</td>\n",
       "      <td>2.3</td>\n",
       "      <td>18.4</td>\n",
       "      <td>0.3</td>\n",
       "      <td>0.4</td>\n",
       "      <td>22.2</td>\n",
       "      <td>0.7</td>\n",
       "      <td>...</td>\n",
       "      <td>30.2</td>\n",
       "      <td>42.1</td>\n",
       "      <td>1.2</td>\n",
       "      <td>29.7</td>\n",
       "      <td>31.3</td>\n",
       "      <td>23.1</td>\n",
       "      <td>340.4</td>\n",
       "      <td>4.73</td>\n",
       "      <td>597</td>\n",
       "      <td>807</td>\n",
       "    </tr>\n",
       "    <tr>\n",
       "      <th>3</th>\n",
       "      <td>Bushwick</td>\n",
       "      <td>44.7</td>\n",
       "      <td>82.2</td>\n",
       "      <td>7.0</td>\n",
       "      <td>5.2</td>\n",
       "      <td>30.3</td>\n",
       "      <td>0.9</td>\n",
       "      <td>2.6</td>\n",
       "      <td>15.2</td>\n",
       "      <td>1.7</td>\n",
       "      <td>...</td>\n",
       "      <td>31.2</td>\n",
       "      <td>46.0</td>\n",
       "      <td>3.7</td>\n",
       "      <td>26.0</td>\n",
       "      <td>28.0</td>\n",
       "      <td>27.8</td>\n",
       "      <td>421.3</td>\n",
       "      <td>5.23</td>\n",
       "      <td>561</td>\n",
       "      <td>427</td>\n",
       "    </tr>\n",
       "    <tr>\n",
       "      <th>4</th>\n",
       "      <td>East New York/Starrett City</td>\n",
       "      <td>58.4</td>\n",
       "      <td>76.6</td>\n",
       "      <td>7.3</td>\n",
       "      <td>47.9</td>\n",
       "      <td>31.5</td>\n",
       "      <td>12.1</td>\n",
       "      <td>1.9</td>\n",
       "      <td>22.0</td>\n",
       "      <td>14.6</td>\n",
       "      <td>...</td>\n",
       "      <td>32.2</td>\n",
       "      <td>41.3</td>\n",
       "      <td>0.0</td>\n",
       "      <td>32.0</td>\n",
       "      <td>29.9</td>\n",
       "      <td>24.5</td>\n",
       "      <td>525.9</td>\n",
       "      <td>8.98</td>\n",
       "      <td>672</td>\n",
       "      <td>564</td>\n",
       "    </tr>\n",
       "  </tbody>\n",
       "</table>\n",
       "<p>5 rows × 87 columns</p>\n",
       "</div>"
      ],
      "text/plain": [
       "                   Neighborhood  Born in New York State  \\\n",
       "0       Greenpoint/Williamsburg                    46.7   \n",
       "1  Fort Greene/Brooklyn Heights                    48.9   \n",
       "2            Bedford Stuyvesant                    57.8   \n",
       "3                      Bushwick                    44.7   \n",
       "4   East New York/Starrett City                    58.4   \n",
       "\n",
       "   Car-free commute (% of commuters)  Disabled population  \\\n",
       "0                               84.4                  6.8   \n",
       "1                               90.9                  8.7   \n",
       "2                               78.2                  8.8   \n",
       "3                               82.2                  7.0   \n",
       "4                               76.6                  7.3   \n",
       "\n",
       "   FHAVA-backed home purchase loans (% of home purchase loans)  \\\n",
       "0                                                0.0             \n",
       "1                                                0.0             \n",
       "2                                                2.3             \n",
       "3                                                5.2             \n",
       "4                                               47.9             \n",
       "\n",
       "   Foreign-born population  \\\n",
       "0                     24.9   \n",
       "1                     18.8   \n",
       "2                     18.4   \n",
       "3                     30.3   \n",
       "4                     31.5   \n",
       "\n",
       "   Higher-cost home purchase loans (% of home purchase loans)  \\\n",
       "0                                                0.0            \n",
       "1                                                0.2            \n",
       "2                                                0.3            \n",
       "3                                                0.9            \n",
       "4                                               12.1            \n",
       "\n",
       "   Higher-cost refinance loans (% of refinance loans)  \\\n",
       "0                                                1.7    \n",
       "1                                                0.3    \n",
       "2                                                0.4    \n",
       "3                                                2.6    \n",
       "4                                                1.9    \n",
       "\n",
       "   Home purchase loan rate (per 1,000 properties)  \\\n",
       "0                                            27.7   \n",
       "1                                            37.1   \n",
       "2                                            22.2   \n",
       "3                                            15.2   \n",
       "4                                            22.0   \n",
       "\n",
       "   Home purchase loans in LMI tracts (% of home purchase loans)  ...  \\\n",
       "0                                                1.0             ...   \n",
       "1                                                2.0             ...   \n",
       "2                                                0.7             ...   \n",
       "3                                                1.7             ...   \n",
       "4                                               14.6             ...   \n",
       "\n",
       "   Severely rent-burdened households  \\\n",
       "0                               26.7   \n",
       "1                               18.2   \n",
       "2                               30.2   \n",
       "3                               31.2   \n",
       "4                               32.2   \n",
       "\n",
       "   Severely rent-burdened households, low income  \\\n",
       "0                                           47.3   \n",
       "1                                           43.4   \n",
       "2                                           42.1   \n",
       "3                                           46.0   \n",
       "4                                           41.3   \n",
       "\n",
       "   Severely rent-burdened households, moderate income  \\\n",
       "0                                                7.4    \n",
       "1                                                9.3    \n",
       "2                                                1.2    \n",
       "3                                                3.7    \n",
       "4                                                0.0    \n",
       "\n",
       "   Single-person households  \\\n",
       "0                      29.9   \n",
       "1                      39.5   \n",
       "2                      29.7   \n",
       "3                      26.0   \n",
       "4                      32.0   \n",
       "\n",
       "   Students performing at grade level in English language arts, 4th grade  \\\n",
       "0                                               42.6                        \n",
       "1                                               53.1                        \n",
       "2                                               31.3                        \n",
       "3                                               28.0                        \n",
       "4                                               29.9                        \n",
       "\n",
       "   Students performing at grade level in math, 4th grade  \\\n",
       "0                                               41.1       \n",
       "1                                               45.1       \n",
       "2                                               23.1       \n",
       "3                                               27.8       \n",
       "4                                               24.5       \n",
       "\n",
       "   Total housing code violations (per 1,000 privately owned rental units)  \\\n",
       "0                                              150.3                        \n",
       "1                                               84.6                        \n",
       "2                                              340.4                        \n",
       "3                                              421.3                        \n",
       "4                                              525.9                        \n",
       "\n",
       "   Unemployment rate  Units authorized by new residential building permits  \\\n",
       "0               5.49                                                534      \n",
       "1               5.55                                               1364      \n",
       "2               4.73                                                597      \n",
       "3               5.23                                                561      \n",
       "4               8.98                                                672      \n",
       "\n",
       "   Units issued new certificates of occupancy  \n",
       "0                                        2311  \n",
       "1                                        2665  \n",
       "2                                         807  \n",
       "3                                         427  \n",
       "4                                         564  \n",
       "\n",
       "[5 rows x 87 columns]"
      ]
     },
     "execution_count": 3,
     "metadata": {},
     "output_type": "execute_result"
    }
   ],
   "source": [
    "population.head()"
   ]
  },
  {
   "cell_type": "code",
   "execution_count": 9,
   "metadata": {},
   "outputs": [
    {
     "data": {
      "text/plain": [
       "['Neighborhood',\n",
       " 'Born in New York State',\n",
       " 'Car-free commute (% of commuters)',\n",
       " 'Disabled population',\n",
       " 'FHAVA-backed home purchase loans (% of home purchase loans)',\n",
       " 'Foreign-born population',\n",
       " 'Higher-cost home purchase loans (% of home purchase loans)',\n",
       " 'Higher-cost refinance loans (% of refinance loans)',\n",
       " 'Home purchase loan rate (per 1,000 properties)',\n",
       " 'Home purchase loans in LMI tracts (% of home purchase loans)',\n",
       " 'Home purchase loans to LMI borrowers (% of home purchase loans)',\n",
       " 'Homeownership rate',\n",
       " 'Households with children under 18 years old',\n",
       " 'Housing choice vouchers (% of occupied, privately owned rental units)',\n",
       " 'Housing units',\n",
       " 'Income diversity ratio',\n",
       " 'Index of housing price appreciation, 1 family building',\n",
       " 'Index of housing price appreciation, 2-4 family building',\n",
       " 'Index of housing price appreciation, 5+ family building',\n",
       " 'Index of housing price appreciation, all property types',\n",
       " 'Index of housing price appreciation, condominium',\n",
       " 'Labor force participation rate',\n",
       " 'Mean travel time to work (minutes)',\n",
       " 'Median household income (2018$)',\n",
       " 'Median household income, homeowners (2018$)',\n",
       " 'Median household income, renters (2018$)',\n",
       " 'Median rent, 2- and 3-bedrooms (2018$)',\n",
       " 'Median rent, all (2018$)',\n",
       " 'Median rent, asking',\n",
       " 'Median rent, recent movers (2018$)',\n",
       " 'Median rent, studios and 1-bedrooms (2018$)',\n",
       " 'Median sales price per unit, 1 family building (2018$)',\n",
       " 'Median sales price per unit, 2-4 family building (2018$)',\n",
       " 'Median sales price per unit, 5+ family building (2018$)',\n",
       " 'Median sales price per unit, condominium (2018$)',\n",
       " 'Moderately rent-burdened households',\n",
       " 'Moderately rent-burdened households, low income',\n",
       " 'Moderately rent-burdened households, moderate income',\n",
       " 'Notices of foreclosure rate (per 1,000 1-4 family and condo properties)',\n",
       " 'Notices of foreclosure, all residential properties',\n",
       " 'Notices of foreclosure, initial, 1-4 family and condo properties',\n",
       " 'Notices of foreclosure, repeat, 1-4 family and condo properties',\n",
       " 'Percent Asian',\n",
       " 'Percent Hispanic',\n",
       " 'Percent black',\n",
       " 'Percent white',\n",
       " 'Population',\n",
       " 'Population aged 25+ without a high school diploma',\n",
       " 'Population aged 65+',\n",
       " 'Population density (1,000 persons per square mile)',\n",
       " 'Poverty rate',\n",
       " 'Poverty rate, population aged 65+',\n",
       " 'Poverty rate, population under 18 years old',\n",
       " 'Pre-foreclosure notice rate (per 1,000 1-4 family and condo properties)',\n",
       " 'Pre-foreclosure notices, 1-4 family and condo properties',\n",
       " 'Private eviction filings',\n",
       " 'Private eviction filings per 1000 private rental units',\n",
       " 'Properties entering REO, 1-4 family',\n",
       " 'Public housing (% of rental units)',\n",
       " 'Racial diversity index',\n",
       " 'Refinance loan rate (per 1,000 properties)',\n",
       " 'Rental units affordable at  30% AMI (% of recently available units)',\n",
       " 'Rental units affordable at  80% AMI (% of recently available units)',\n",
       " 'Rental units affordable at 120% AMI (% of recently available units)',\n",
       " 'Rental vacancy rate',\n",
       " 'Residential units within 12 mile of a subway station',\n",
       " 'Residential units within 14 mile of a park',\n",
       " 'Sales volume, 1 family building',\n",
       " 'Sales volume, 2-4 family building',\n",
       " 'Sales volume, 5+ family building',\n",
       " 'Sales volume, all property types',\n",
       " 'Sales volume, condominium',\n",
       " 'Serious crime rate (per 1,000 residents)',\n",
       " 'Serious crime rate, property (per 1,000 residents)',\n",
       " 'Serious crime rate, violent (per 1,000 residents)',\n",
       " 'Serious housing code violations (per 1,000 privately owned rental units)',\n",
       " 'Severe crowding rate (% of renter households)',\n",
       " 'Severely rent-burdened households',\n",
       " 'Severely rent-burdened households, low income',\n",
       " 'Severely rent-burdened households, moderate income',\n",
       " 'Single-person households',\n",
       " 'Students performing at grade level in English language arts, 4th grade',\n",
       " 'Students performing at grade level in math, 4th grade',\n",
       " 'Total housing code violations (per 1,000 privately owned rental units)',\n",
       " 'Unemployment rate',\n",
       " 'Units authorized by new residential building permits',\n",
       " 'Units issued new certificates of occupancy']"
      ]
     },
     "execution_count": 9,
     "metadata": {},
     "output_type": "execute_result"
    }
   ],
   "source": [
    "list(population.columns)"
   ]
  },
  {
   "cell_type": "code",
   "execution_count": 10,
   "metadata": {},
   "outputs": [
    {
     "data": {
      "text/html": [
       "<div>\n",
       "<style scoped>\n",
       "    .dataframe tbody tr th:only-of-type {\n",
       "        vertical-align: middle;\n",
       "    }\n",
       "\n",
       "    .dataframe tbody tr th {\n",
       "        vertical-align: top;\n",
       "    }\n",
       "\n",
       "    .dataframe thead th {\n",
       "        text-align: right;\n",
       "    }\n",
       "</style>\n",
       "<table border=\"1\" class=\"dataframe\">\n",
       "  <thead>\n",
       "    <tr style=\"text-align: right;\">\n",
       "      <th></th>\n",
       "      <th>Neighborhood</th>\n",
       "      <th>Population</th>\n",
       "      <th>Percent Asian</th>\n",
       "      <th>Percent Hispanic</th>\n",
       "      <th>Percent black</th>\n",
       "      <th>Percent white</th>\n",
       "      <th>Population density (1,000 persons per square mile)</th>\n",
       "      <th>Poverty rate</th>\n",
       "      <th>Rental vacancy rate</th>\n",
       "      <th>Serious crime rate (per 1,000 residents)</th>\n",
       "      <th>Unemployment rate</th>\n",
       "    </tr>\n",
       "  </thead>\n",
       "  <tbody>\n",
       "    <tr>\n",
       "      <th>0</th>\n",
       "      <td>Greenpoint/Williamsburg</td>\n",
       "      <td>152002</td>\n",
       "      <td>7.0</td>\n",
       "      <td>21.6</td>\n",
       "      <td>3.6</td>\n",
       "      <td>64.5</td>\n",
       "      <td>36.8</td>\n",
       "      <td>23.3</td>\n",
       "      <td>2.3</td>\n",
       "      <td>13.3</td>\n",
       "      <td>5.49</td>\n",
       "    </tr>\n",
       "    <tr>\n",
       "      <th>1</th>\n",
       "      <td>Fort Greene/Brooklyn Heights</td>\n",
       "      <td>135444</td>\n",
       "      <td>9.0</td>\n",
       "      <td>14.9</td>\n",
       "      <td>25.8</td>\n",
       "      <td>47.2</td>\n",
       "      <td>43.5</td>\n",
       "      <td>14.9</td>\n",
       "      <td>2.5</td>\n",
       "      <td>19.5</td>\n",
       "      <td>5.55</td>\n",
       "    </tr>\n",
       "    <tr>\n",
       "      <th>2</th>\n",
       "      <td>Bedford Stuyvesant</td>\n",
       "      <td>142027</td>\n",
       "      <td>2.7</td>\n",
       "      <td>19.4</td>\n",
       "      <td>48.8</td>\n",
       "      <td>26.6</td>\n",
       "      <td>61.8</td>\n",
       "      <td>24.4</td>\n",
       "      <td>5.4</td>\n",
       "      <td>17.5</td>\n",
       "      <td>4.73</td>\n",
       "    </tr>\n",
       "    <tr>\n",
       "      <th>3</th>\n",
       "      <td>Bushwick</td>\n",
       "      <td>140474</td>\n",
       "      <td>5.6</td>\n",
       "      <td>53.9</td>\n",
       "      <td>17.0</td>\n",
       "      <td>21.5</td>\n",
       "      <td>55.4</td>\n",
       "      <td>27.1</td>\n",
       "      <td>3.7</td>\n",
       "      <td>13.8</td>\n",
       "      <td>5.23</td>\n",
       "    </tr>\n",
       "    <tr>\n",
       "      <th>4</th>\n",
       "      <td>East New York/Starrett City</td>\n",
       "      <td>176471</td>\n",
       "      <td>3.8</td>\n",
       "      <td>38.2</td>\n",
       "      <td>52.8</td>\n",
       "      <td>3.9</td>\n",
       "      <td>29.1</td>\n",
       "      <td>24.7</td>\n",
       "      <td>5.1</td>\n",
       "      <td>17.1</td>\n",
       "      <td>8.98</td>\n",
       "    </tr>\n",
       "  </tbody>\n",
       "</table>\n",
       "</div>"
      ],
      "text/plain": [
       "                   Neighborhood  Population  Percent Asian  Percent Hispanic  \\\n",
       "0       Greenpoint/Williamsburg      152002            7.0              21.6   \n",
       "1  Fort Greene/Brooklyn Heights      135444            9.0              14.9   \n",
       "2            Bedford Stuyvesant      142027            2.7              19.4   \n",
       "3                      Bushwick      140474            5.6              53.9   \n",
       "4   East New York/Starrett City      176471            3.8              38.2   \n",
       "\n",
       "   Percent black  Percent white  \\\n",
       "0            3.6           64.5   \n",
       "1           25.8           47.2   \n",
       "2           48.8           26.6   \n",
       "3           17.0           21.5   \n",
       "4           52.8            3.9   \n",
       "\n",
       "   Population density (1,000 persons per square mile)  Poverty rate  \\\n",
       "0                                               36.8           23.3   \n",
       "1                                               43.5           14.9   \n",
       "2                                               61.8           24.4   \n",
       "3                                               55.4           27.1   \n",
       "4                                               29.1           24.7   \n",
       "\n",
       "   Rental vacancy rate  Serious crime rate (per 1,000 residents)  \\\n",
       "0                  2.3                                      13.3   \n",
       "1                  2.5                                      19.5   \n",
       "2                  5.4                                      17.5   \n",
       "3                  3.7                                      13.8   \n",
       "4                  5.1                                      17.1   \n",
       "\n",
       "   Unemployment rate  \n",
       "0               5.49  \n",
       "1               5.55  \n",
       "2               4.73  \n",
       "3               5.23  \n",
       "4               8.98  "
      ]
     },
     "execution_count": 10,
     "metadata": {},
     "output_type": "execute_result"
    }
   ],
   "source": [
    "pop2 = population[['Neighborhood', 'Population', 'Percent Asian',  'Percent Hispanic',  'Percent black',  'Percent white', 'Population density (1,000 persons per square mile)', 'Poverty rate', 'Rental vacancy rate','Serious crime rate (per 1,000 residents)','Unemployment rate']].copy()\n",
    "pop2.head()"
   ]
  },
  {
   "cell_type": "code",
   "execution_count": 40,
   "metadata": {},
   "outputs": [],
   "source": [
    "pop3 = pop2.copy()"
   ]
  },
  {
   "cell_type": "code",
   "execution_count": 42,
   "metadata": {},
   "outputs": [],
   "source": [
    "pop3.sort_values(by=['Population'], inplace= True, ascending= False)"
   ]
  },
  {
   "cell_type": "code",
   "execution_count": 53,
   "metadata": {},
   "outputs": [
    {
     "data": {
      "text/html": [
       "<div>\n",
       "<style scoped>\n",
       "    .dataframe tbody tr th:only-of-type {\n",
       "        vertical-align: middle;\n",
       "    }\n",
       "\n",
       "    .dataframe tbody tr th {\n",
       "        vertical-align: top;\n",
       "    }\n",
       "\n",
       "    .dataframe thead th {\n",
       "        text-align: right;\n",
       "    }\n",
       "</style>\n",
       "<table border=\"1\" class=\"dataframe\">\n",
       "  <thead>\n",
       "    <tr style=\"text-align: right;\">\n",
       "      <th></th>\n",
       "      <th>Neighborhood</th>\n",
       "      <th>Population</th>\n",
       "      <th>Percent Asian</th>\n",
       "      <th>Percent Hispanic</th>\n",
       "      <th>Percent black</th>\n",
       "      <th>Percent white</th>\n",
       "      <th>Population density (1,000 persons per square mile)</th>\n",
       "      <th>Poverty rate</th>\n",
       "      <th>Rental vacancy rate</th>\n",
       "      <th>Serious crime rate (per 1,000 residents)</th>\n",
       "      <th>Unemployment rate</th>\n",
       "      <th>black</th>\n",
       "    </tr>\n",
       "  </thead>\n",
       "  <tbody>\n",
       "    <tr>\n",
       "      <th>48</th>\n",
       "      <td>Flushing/Whitestone</td>\n",
       "      <td>260282</td>\n",
       "      <td>54.5</td>\n",
       "      <td>18.4</td>\n",
       "      <td>2.1</td>\n",
       "      <td>23.3</td>\n",
       "      <td>22.1</td>\n",
       "      <td>16.2</td>\n",
       "      <td>4.1</td>\n",
       "      <td>7.1</td>\n",
       "      <td>2.56</td>\n",
       "      <td>210.0</td>\n",
       "    </tr>\n",
       "    <tr>\n",
       "      <th>53</th>\n",
       "      <td>Jamaica/Hollis</td>\n",
       "      <td>249331</td>\n",
       "      <td>14.6</td>\n",
       "      <td>16.7</td>\n",
       "      <td>59.2</td>\n",
       "      <td>1.4</td>\n",
       "      <td>26.8</td>\n",
       "      <td>11.3</td>\n",
       "      <td>2.9</td>\n",
       "      <td>12.4</td>\n",
       "      <td>7.35</td>\n",
       "      <td>5920.0</td>\n",
       "    </tr>\n",
       "    <tr>\n",
       "      <th>41</th>\n",
       "      <td>Washington Heights/Inwood</td>\n",
       "      <td>219998</td>\n",
       "      <td>2.4</td>\n",
       "      <td>66.9</td>\n",
       "      <td>8.3</td>\n",
       "      <td>20.2</td>\n",
       "      <td>75.1</td>\n",
       "      <td>18.7</td>\n",
       "      <td>1.7</td>\n",
       "      <td>10.6</td>\n",
       "      <td>8.69</td>\n",
       "      <td>830.0</td>\n",
       "    </tr>\n",
       "    <tr>\n",
       "      <th>17</th>\n",
       "      <td>Flatlands/Canarsie</td>\n",
       "      <td>215637</td>\n",
       "      <td>4.7</td>\n",
       "      <td>8.8</td>\n",
       "      <td>62.2</td>\n",
       "      <td>22.4</td>\n",
       "      <td>17.0</td>\n",
       "      <td>8.9</td>\n",
       "      <td>3.4</td>\n",
       "      <td>9.3</td>\n",
       "      <td>5.33</td>\n",
       "      <td>6220.0</td>\n",
       "    </tr>\n",
       "    <tr>\n",
       "      <th>37</th>\n",
       "      <td>Upper East Side</td>\n",
       "      <td>214219</td>\n",
       "      <td>10.7</td>\n",
       "      <td>10.8</td>\n",
       "      <td>1.4</td>\n",
       "      <td>74.6</td>\n",
       "      <td>107.8</td>\n",
       "      <td>6.1</td>\n",
       "      <td>5.5</td>\n",
       "      <td>8.8</td>\n",
       "      <td>2.10</td>\n",
       "      <td>140.0</td>\n",
       "    </tr>\n",
       "    <tr>\n",
       "      <th>54</th>\n",
       "      <td>Queens Village</td>\n",
       "      <td>208786</td>\n",
       "      <td>15.7</td>\n",
       "      <td>14.7</td>\n",
       "      <td>53.9</td>\n",
       "      <td>9.6</td>\n",
       "      <td>10.6</td>\n",
       "      <td>8.9</td>\n",
       "      <td>2.8</td>\n",
       "      <td>8.8</td>\n",
       "      <td>7.46</td>\n",
       "      <td>5390.0</td>\n",
       "    </tr>\n",
       "    <tr>\n",
       "      <th>36</th>\n",
       "      <td>Upper West Side</td>\n",
       "      <td>207134</td>\n",
       "      <td>8.7</td>\n",
       "      <td>13.1</td>\n",
       "      <td>5.7</td>\n",
       "      <td>69.1</td>\n",
       "      <td>69.9</td>\n",
       "      <td>9.9</td>\n",
       "      <td>4.7</td>\n",
       "      <td>9.3</td>\n",
       "      <td>4.76</td>\n",
       "      <td>570.0</td>\n",
       "    </tr>\n",
       "    <tr>\n",
       "      <th>10</th>\n",
       "      <td>Bensonhurst</td>\n",
       "      <td>205850</td>\n",
       "      <td>38.9</td>\n",
       "      <td>15.5</td>\n",
       "      <td>1.8</td>\n",
       "      <td>40.4</td>\n",
       "      <td>55.7</td>\n",
       "      <td>17.3</td>\n",
       "      <td>2.3</td>\n",
       "      <td>6.2</td>\n",
       "      <td>6.10</td>\n",
       "      <td>180.0</td>\n",
       "    </tr>\n",
       "    <tr>\n",
       "      <th>46</th>\n",
       "      <td>Ridgewood/Maspeth</td>\n",
       "      <td>199043</td>\n",
       "      <td>8.9</td>\n",
       "      <td>38.4</td>\n",
       "      <td>0.9</td>\n",
       "      <td>50.1</td>\n",
       "      <td>27.2</td>\n",
       "      <td>8.4</td>\n",
       "      <td>3.4</td>\n",
       "      <td>7.5</td>\n",
       "      <td>4.83</td>\n",
       "      <td>90.0</td>\n",
       "    </tr>\n",
       "    <tr>\n",
       "      <th>20</th>\n",
       "      <td>Morrisania/Crotona</td>\n",
       "      <td>188075</td>\n",
       "      <td>1.3</td>\n",
       "      <td>61.8</td>\n",
       "      <td>32.5</td>\n",
       "      <td>3.8</td>\n",
       "      <td>43.0</td>\n",
       "      <td>35.8</td>\n",
       "      <td>1.8</td>\n",
       "      <td>16.9</td>\n",
       "      <td>14.45</td>\n",
       "      <td>3250.0</td>\n",
       "    </tr>\n",
       "  </tbody>\n",
       "</table>\n",
       "</div>"
      ],
      "text/plain": [
       "                 Neighborhood  Population  Percent Asian  Percent Hispanic  \\\n",
       "48        Flushing/Whitestone      260282           54.5              18.4   \n",
       "53             Jamaica/Hollis      249331           14.6              16.7   \n",
       "41  Washington Heights/Inwood      219998            2.4              66.9   \n",
       "17         Flatlands/Canarsie      215637            4.7               8.8   \n",
       "37            Upper East Side      214219           10.7              10.8   \n",
       "54             Queens Village      208786           15.7              14.7   \n",
       "36            Upper West Side      207134            8.7              13.1   \n",
       "10                Bensonhurst      205850           38.9              15.5   \n",
       "46          Ridgewood/Maspeth      199043            8.9              38.4   \n",
       "20         Morrisania/Crotona      188075            1.3              61.8   \n",
       "\n",
       "    Percent black  Percent white  \\\n",
       "48            2.1           23.3   \n",
       "53           59.2            1.4   \n",
       "41            8.3           20.2   \n",
       "17           62.2           22.4   \n",
       "37            1.4           74.6   \n",
       "54           53.9            9.6   \n",
       "36            5.7           69.1   \n",
       "10            1.8           40.4   \n",
       "46            0.9           50.1   \n",
       "20           32.5            3.8   \n",
       "\n",
       "    Population density (1,000 persons per square mile)  Poverty rate  \\\n",
       "48                                               22.1           16.2   \n",
       "53                                               26.8           11.3   \n",
       "41                                               75.1           18.7   \n",
       "17                                               17.0            8.9   \n",
       "37                                              107.8            6.1   \n",
       "54                                               10.6            8.9   \n",
       "36                                               69.9            9.9   \n",
       "10                                               55.7           17.3   \n",
       "46                                               27.2            8.4   \n",
       "20                                               43.0           35.8   \n",
       "\n",
       "    Rental vacancy rate  Serious crime rate (per 1,000 residents)  \\\n",
       "48                  4.1                                       7.1   \n",
       "53                  2.9                                      12.4   \n",
       "41                  1.7                                      10.6   \n",
       "17                  3.4                                       9.3   \n",
       "37                  5.5                                       8.8   \n",
       "54                  2.8                                       8.8   \n",
       "36                  4.7                                       9.3   \n",
       "10                  2.3                                       6.2   \n",
       "46                  3.4                                       7.5   \n",
       "20                  1.8                                      16.9   \n",
       "\n",
       "    Unemployment rate   black  \n",
       "48               2.56   210.0  \n",
       "53               7.35  5920.0  \n",
       "41               8.69   830.0  \n",
       "17               5.33  6220.0  \n",
       "37               2.10   140.0  \n",
       "54               7.46  5390.0  \n",
       "36               4.76   570.0  \n",
       "10               6.10   180.0  \n",
       "46               4.83    90.0  \n",
       "20              14.45  3250.0  "
      ]
     },
     "execution_count": 53,
     "metadata": {},
     "output_type": "execute_result"
    }
   ],
   "source": [
    "pop3.head(10)"
   ]
  },
  {
   "cell_type": "code",
   "execution_count": 73,
   "metadata": {},
   "outputs": [],
   "source": [
    "del pop3['black']"
   ]
  },
  {
   "cell_type": "code",
   "execution_count": 74,
   "metadata": {},
   "outputs": [
    {
     "data": {
      "text/html": [
       "<div>\n",
       "<style scoped>\n",
       "    .dataframe tbody tr th:only-of-type {\n",
       "        vertical-align: middle;\n",
       "    }\n",
       "\n",
       "    .dataframe tbody tr th {\n",
       "        vertical-align: top;\n",
       "    }\n",
       "\n",
       "    .dataframe thead th {\n",
       "        text-align: right;\n",
       "    }\n",
       "</style>\n",
       "<table border=\"1\" class=\"dataframe\">\n",
       "  <thead>\n",
       "    <tr style=\"text-align: right;\">\n",
       "      <th></th>\n",
       "      <th>Neighborhood</th>\n",
       "      <th>Population</th>\n",
       "      <th>Percent Asian</th>\n",
       "      <th>Percent Hispanic</th>\n",
       "      <th>Percent black</th>\n",
       "      <th>Percent white</th>\n",
       "      <th>Population density (1,000 persons per square mile)</th>\n",
       "      <th>Poverty rate</th>\n",
       "      <th>Rental vacancy rate</th>\n",
       "      <th>Serious crime rate (per 1,000 residents)</th>\n",
       "      <th>Unemployment rate</th>\n",
       "    </tr>\n",
       "  </thead>\n",
       "  <tbody>\n",
       "    <tr>\n",
       "      <th>48</th>\n",
       "      <td>Flushing/Whitestone</td>\n",
       "      <td>260282</td>\n",
       "      <td>54.5</td>\n",
       "      <td>18.4</td>\n",
       "      <td>2.1</td>\n",
       "      <td>23.3</td>\n",
       "      <td>22.1</td>\n",
       "      <td>16.2</td>\n",
       "      <td>4.1</td>\n",
       "      <td>7.1</td>\n",
       "      <td>2.56</td>\n",
       "    </tr>\n",
       "    <tr>\n",
       "      <th>53</th>\n",
       "      <td>Jamaica/Hollis</td>\n",
       "      <td>249331</td>\n",
       "      <td>14.6</td>\n",
       "      <td>16.7</td>\n",
       "      <td>59.2</td>\n",
       "      <td>1.4</td>\n",
       "      <td>26.8</td>\n",
       "      <td>11.3</td>\n",
       "      <td>2.9</td>\n",
       "      <td>12.4</td>\n",
       "      <td>7.35</td>\n",
       "    </tr>\n",
       "    <tr>\n",
       "      <th>41</th>\n",
       "      <td>Washington Heights/Inwood</td>\n",
       "      <td>219998</td>\n",
       "      <td>2.4</td>\n",
       "      <td>66.9</td>\n",
       "      <td>8.3</td>\n",
       "      <td>20.2</td>\n",
       "      <td>75.1</td>\n",
       "      <td>18.7</td>\n",
       "      <td>1.7</td>\n",
       "      <td>10.6</td>\n",
       "      <td>8.69</td>\n",
       "    </tr>\n",
       "    <tr>\n",
       "      <th>17</th>\n",
       "      <td>Flatlands/Canarsie</td>\n",
       "      <td>215637</td>\n",
       "      <td>4.7</td>\n",
       "      <td>8.8</td>\n",
       "      <td>62.2</td>\n",
       "      <td>22.4</td>\n",
       "      <td>17.0</td>\n",
       "      <td>8.9</td>\n",
       "      <td>3.4</td>\n",
       "      <td>9.3</td>\n",
       "      <td>5.33</td>\n",
       "    </tr>\n",
       "    <tr>\n",
       "      <th>37</th>\n",
       "      <td>Upper East Side</td>\n",
       "      <td>214219</td>\n",
       "      <td>10.7</td>\n",
       "      <td>10.8</td>\n",
       "      <td>1.4</td>\n",
       "      <td>74.6</td>\n",
       "      <td>107.8</td>\n",
       "      <td>6.1</td>\n",
       "      <td>5.5</td>\n",
       "      <td>8.8</td>\n",
       "      <td>2.10</td>\n",
       "    </tr>\n",
       "    <tr>\n",
       "      <th>54</th>\n",
       "      <td>Queens Village</td>\n",
       "      <td>208786</td>\n",
       "      <td>15.7</td>\n",
       "      <td>14.7</td>\n",
       "      <td>53.9</td>\n",
       "      <td>9.6</td>\n",
       "      <td>10.6</td>\n",
       "      <td>8.9</td>\n",
       "      <td>2.8</td>\n",
       "      <td>8.8</td>\n",
       "      <td>7.46</td>\n",
       "    </tr>\n",
       "    <tr>\n",
       "      <th>36</th>\n",
       "      <td>Upper West Side</td>\n",
       "      <td>207134</td>\n",
       "      <td>8.7</td>\n",
       "      <td>13.1</td>\n",
       "      <td>5.7</td>\n",
       "      <td>69.1</td>\n",
       "      <td>69.9</td>\n",
       "      <td>9.9</td>\n",
       "      <td>4.7</td>\n",
       "      <td>9.3</td>\n",
       "      <td>4.76</td>\n",
       "    </tr>\n",
       "    <tr>\n",
       "      <th>10</th>\n",
       "      <td>Bensonhurst</td>\n",
       "      <td>205850</td>\n",
       "      <td>38.9</td>\n",
       "      <td>15.5</td>\n",
       "      <td>1.8</td>\n",
       "      <td>40.4</td>\n",
       "      <td>55.7</td>\n",
       "      <td>17.3</td>\n",
       "      <td>2.3</td>\n",
       "      <td>6.2</td>\n",
       "      <td>6.10</td>\n",
       "    </tr>\n",
       "    <tr>\n",
       "      <th>46</th>\n",
       "      <td>Ridgewood/Maspeth</td>\n",
       "      <td>199043</td>\n",
       "      <td>8.9</td>\n",
       "      <td>38.4</td>\n",
       "      <td>0.9</td>\n",
       "      <td>50.1</td>\n",
       "      <td>27.2</td>\n",
       "      <td>8.4</td>\n",
       "      <td>3.4</td>\n",
       "      <td>7.5</td>\n",
       "      <td>4.83</td>\n",
       "    </tr>\n",
       "    <tr>\n",
       "      <th>20</th>\n",
       "      <td>Morrisania/Crotona</td>\n",
       "      <td>188075</td>\n",
       "      <td>1.3</td>\n",
       "      <td>61.8</td>\n",
       "      <td>32.5</td>\n",
       "      <td>3.8</td>\n",
       "      <td>43.0</td>\n",
       "      <td>35.8</td>\n",
       "      <td>1.8</td>\n",
       "      <td>16.9</td>\n",
       "      <td>14.45</td>\n",
       "    </tr>\n",
       "  </tbody>\n",
       "</table>\n",
       "</div>"
      ],
      "text/plain": [
       "                 Neighborhood  Population  Percent Asian  Percent Hispanic  \\\n",
       "48        Flushing/Whitestone      260282           54.5              18.4   \n",
       "53             Jamaica/Hollis      249331           14.6              16.7   \n",
       "41  Washington Heights/Inwood      219998            2.4              66.9   \n",
       "17         Flatlands/Canarsie      215637            4.7               8.8   \n",
       "37            Upper East Side      214219           10.7              10.8   \n",
       "54             Queens Village      208786           15.7              14.7   \n",
       "36            Upper West Side      207134            8.7              13.1   \n",
       "10                Bensonhurst      205850           38.9              15.5   \n",
       "46          Ridgewood/Maspeth      199043            8.9              38.4   \n",
       "20         Morrisania/Crotona      188075            1.3              61.8   \n",
       "\n",
       "    Percent black  Percent white  \\\n",
       "48            2.1           23.3   \n",
       "53           59.2            1.4   \n",
       "41            8.3           20.2   \n",
       "17           62.2           22.4   \n",
       "37            1.4           74.6   \n",
       "54           53.9            9.6   \n",
       "36            5.7           69.1   \n",
       "10            1.8           40.4   \n",
       "46            0.9           50.1   \n",
       "20           32.5            3.8   \n",
       "\n",
       "    Population density (1,000 persons per square mile)  Poverty rate  \\\n",
       "48                                               22.1           16.2   \n",
       "53                                               26.8           11.3   \n",
       "41                                               75.1           18.7   \n",
       "17                                               17.0            8.9   \n",
       "37                                              107.8            6.1   \n",
       "54                                               10.6            8.9   \n",
       "36                                               69.9            9.9   \n",
       "10                                               55.7           17.3   \n",
       "46                                               27.2            8.4   \n",
       "20                                               43.0           35.8   \n",
       "\n",
       "    Rental vacancy rate  Serious crime rate (per 1,000 residents)  \\\n",
       "48                  4.1                                       7.1   \n",
       "53                  2.9                                      12.4   \n",
       "41                  1.7                                      10.6   \n",
       "17                  3.4                                       9.3   \n",
       "37                  5.5                                       8.8   \n",
       "54                  2.8                                       8.8   \n",
       "36                  4.7                                       9.3   \n",
       "10                  2.3                                       6.2   \n",
       "46                  3.4                                       7.5   \n",
       "20                  1.8                                      16.9   \n",
       "\n",
       "    Unemployment rate  \n",
       "48               2.56  \n",
       "53               7.35  \n",
       "41               8.69  \n",
       "17               5.33  \n",
       "37               2.10  \n",
       "54               7.46  \n",
       "36               4.76  \n",
       "10               6.10  \n",
       "46               4.83  \n",
       "20              14.45  "
      ]
     },
     "execution_count": 74,
     "metadata": {},
     "output_type": "execute_result"
    }
   ],
   "source": [
    "pop3.head(10)"
   ]
  },
  {
   "cell_type": "code",
   "execution_count": 71,
   "metadata": {},
   "outputs": [
    {
     "data": {
      "application/vnd.plotly.v1+json": {
       "config": {
        "plotlyServerURL": "https://plot.ly"
       },
       "data": [
        {
         "alignmentgroup": "True",
         "hovertemplate": "Population=%{x}<br>Neighborhood=%{y}<extra></extra>",
         "legendgroup": "",
         "marker": {
          "color": "#636efa",
          "pattern": {
           "shape": ""
          }
         },
         "name": "",
         "offsetgroup": "",
         "orientation": "h",
         "showlegend": false,
         "textposition": "auto",
         "type": "bar",
         "x": [
          260282,
          249331,
          219998,
          215637,
          214219,
          208786,
          207134,
          205850,
          199043,
          188075,
          188075,
          187975,
          176632,
          176471,
          171030,
          170222,
          164321,
          164291,
          160490,
          159060,
          156357,
          156357,
          152455,
          152455,
          152283,
          152002,
          150707,
          150411,
          149710,
          149674,
          148982,
          148982,
          148339,
          147442,
          146556,
          146301,
          144332,
          143766,
          143540,
          142027,
          141725,
          140474,
          140087,
          139323,
          136017,
          135444,
          133822,
          133051,
          128316,
          123488,
          122009,
          120116,
          118922,
          118670,
          116209,
          113395,
          113242,
          113212,
          111511
         ],
         "xaxis": "x",
         "y": [
          "Flushing/Whitestone",
          "Jamaica/Hollis",
          "Washington Heights/Inwood",
          "Flatlands/Canarsie",
          "Upper East Side",
          "Queens Village",
          "Upper West Side",
          "Bensonhurst",
          "Ridgewood/Maspeth",
          "Morrisania/Crotona",
          "Belmont/East Tremont",
          "Parkchester/Soundview",
          "St. George/Stapleton",
          "East New York/Starrett City",
          "Sheepshead Bay",
          "Jackson Heights",
          "Astoria",
          "Hillcrest/Fresh Meadows",
          "Lower East Side/Chinatown",
          "Tottenville/Great Kills",
          "Hunts Point/Longwood",
          "Mott Haven/Melrose",
          "Midtown",
          "Clinton/Chelsea",
          "Kew Gardens/Woodhaven",
          "Greenpoint/Williamsburg",
          "Flatbush/Midwood",
          "Williamsbridge/Baychester",
          "Highbridge/Concourse",
          "Stuyvesant Town/Turtle Bay",
          "Financial District",
          "Greenwich Village/Soho",
          "Fordham/University Heights",
          "Central Harlem",
          "Borough Park",
          "Elmhurst/Corona",
          "Sunset Park",
          "South Beach/Willowbrook",
          "Kingsbridge Heights/Bedford",
          "Bedford Stuyvesant",
          "Crown Heights/Prospect Heights",
          "Bushwick",
          "East Flatbush",
          "South Ozone Park/Howard Beach",
          "Morningside Heights/Hamilton",
          "Fort Greene/Brooklyn Heights",
          "Woodside/Sunnyside",
          "Rockaway/Broad Channel",
          "East Harlem",
          "Bay Ridge/Dyker Heights",
          "Coney Island",
          "Morris Park/Bronxdale",
          "Rego Park/Forest Hills",
          "Bayside/Little Neck",
          "Park Slope/Carroll Gardens",
          "Throgs Neck/Co-op City",
          "Riverdale/Fieldston",
          "South Crown Heights/Lefferts Gardens",
          "Brownsville"
         ],
         "yaxis": "y"
        }
       ],
       "layout": {
        "barmode": "relative",
        "legend": {
         "tracegroupgap": 0
        },
        "margin": {
         "t": 60
        },
        "template": {
         "data": {
          "bar": [
           {
            "error_x": {
             "color": "#2a3f5f"
            },
            "error_y": {
             "color": "#2a3f5f"
            },
            "marker": {
             "line": {
              "color": "#E5ECF6",
              "width": 0.5
             },
             "pattern": {
              "fillmode": "overlay",
              "size": 10,
              "solidity": 0.2
             }
            },
            "type": "bar"
           }
          ],
          "barpolar": [
           {
            "marker": {
             "line": {
              "color": "#E5ECF6",
              "width": 0.5
             },
             "pattern": {
              "fillmode": "overlay",
              "size": 10,
              "solidity": 0.2
             }
            },
            "type": "barpolar"
           }
          ],
          "carpet": [
           {
            "aaxis": {
             "endlinecolor": "#2a3f5f",
             "gridcolor": "white",
             "linecolor": "white",
             "minorgridcolor": "white",
             "startlinecolor": "#2a3f5f"
            },
            "baxis": {
             "endlinecolor": "#2a3f5f",
             "gridcolor": "white",
             "linecolor": "white",
             "minorgridcolor": "white",
             "startlinecolor": "#2a3f5f"
            },
            "type": "carpet"
           }
          ],
          "choropleth": [
           {
            "colorbar": {
             "outlinewidth": 0,
             "ticks": ""
            },
            "type": "choropleth"
           }
          ],
          "contour": [
           {
            "colorbar": {
             "outlinewidth": 0,
             "ticks": ""
            },
            "colorscale": [
             [
              0,
              "#0d0887"
             ],
             [
              0.1111111111111111,
              "#46039f"
             ],
             [
              0.2222222222222222,
              "#7201a8"
             ],
             [
              0.3333333333333333,
              "#9c179e"
             ],
             [
              0.4444444444444444,
              "#bd3786"
             ],
             [
              0.5555555555555556,
              "#d8576b"
             ],
             [
              0.6666666666666666,
              "#ed7953"
             ],
             [
              0.7777777777777778,
              "#fb9f3a"
             ],
             [
              0.8888888888888888,
              "#fdca26"
             ],
             [
              1,
              "#f0f921"
             ]
            ],
            "type": "contour"
           }
          ],
          "contourcarpet": [
           {
            "colorbar": {
             "outlinewidth": 0,
             "ticks": ""
            },
            "type": "contourcarpet"
           }
          ],
          "heatmap": [
           {
            "colorbar": {
             "outlinewidth": 0,
             "ticks": ""
            },
            "colorscale": [
             [
              0,
              "#0d0887"
             ],
             [
              0.1111111111111111,
              "#46039f"
             ],
             [
              0.2222222222222222,
              "#7201a8"
             ],
             [
              0.3333333333333333,
              "#9c179e"
             ],
             [
              0.4444444444444444,
              "#bd3786"
             ],
             [
              0.5555555555555556,
              "#d8576b"
             ],
             [
              0.6666666666666666,
              "#ed7953"
             ],
             [
              0.7777777777777778,
              "#fb9f3a"
             ],
             [
              0.8888888888888888,
              "#fdca26"
             ],
             [
              1,
              "#f0f921"
             ]
            ],
            "type": "heatmap"
           }
          ],
          "heatmapgl": [
           {
            "colorbar": {
             "outlinewidth": 0,
             "ticks": ""
            },
            "colorscale": [
             [
              0,
              "#0d0887"
             ],
             [
              0.1111111111111111,
              "#46039f"
             ],
             [
              0.2222222222222222,
              "#7201a8"
             ],
             [
              0.3333333333333333,
              "#9c179e"
             ],
             [
              0.4444444444444444,
              "#bd3786"
             ],
             [
              0.5555555555555556,
              "#d8576b"
             ],
             [
              0.6666666666666666,
              "#ed7953"
             ],
             [
              0.7777777777777778,
              "#fb9f3a"
             ],
             [
              0.8888888888888888,
              "#fdca26"
             ],
             [
              1,
              "#f0f921"
             ]
            ],
            "type": "heatmapgl"
           }
          ],
          "histogram": [
           {
            "marker": {
             "pattern": {
              "fillmode": "overlay",
              "size": 10,
              "solidity": 0.2
             }
            },
            "type": "histogram"
           }
          ],
          "histogram2d": [
           {
            "colorbar": {
             "outlinewidth": 0,
             "ticks": ""
            },
            "colorscale": [
             [
              0,
              "#0d0887"
             ],
             [
              0.1111111111111111,
              "#46039f"
             ],
             [
              0.2222222222222222,
              "#7201a8"
             ],
             [
              0.3333333333333333,
              "#9c179e"
             ],
             [
              0.4444444444444444,
              "#bd3786"
             ],
             [
              0.5555555555555556,
              "#d8576b"
             ],
             [
              0.6666666666666666,
              "#ed7953"
             ],
             [
              0.7777777777777778,
              "#fb9f3a"
             ],
             [
              0.8888888888888888,
              "#fdca26"
             ],
             [
              1,
              "#f0f921"
             ]
            ],
            "type": "histogram2d"
           }
          ],
          "histogram2dcontour": [
           {
            "colorbar": {
             "outlinewidth": 0,
             "ticks": ""
            },
            "colorscale": [
             [
              0,
              "#0d0887"
             ],
             [
              0.1111111111111111,
              "#46039f"
             ],
             [
              0.2222222222222222,
              "#7201a8"
             ],
             [
              0.3333333333333333,
              "#9c179e"
             ],
             [
              0.4444444444444444,
              "#bd3786"
             ],
             [
              0.5555555555555556,
              "#d8576b"
             ],
             [
              0.6666666666666666,
              "#ed7953"
             ],
             [
              0.7777777777777778,
              "#fb9f3a"
             ],
             [
              0.8888888888888888,
              "#fdca26"
             ],
             [
              1,
              "#f0f921"
             ]
            ],
            "type": "histogram2dcontour"
           }
          ],
          "mesh3d": [
           {
            "colorbar": {
             "outlinewidth": 0,
             "ticks": ""
            },
            "type": "mesh3d"
           }
          ],
          "parcoords": [
           {
            "line": {
             "colorbar": {
              "outlinewidth": 0,
              "ticks": ""
             }
            },
            "type": "parcoords"
           }
          ],
          "pie": [
           {
            "automargin": true,
            "type": "pie"
           }
          ],
          "scatter": [
           {
            "marker": {
             "colorbar": {
              "outlinewidth": 0,
              "ticks": ""
             }
            },
            "type": "scatter"
           }
          ],
          "scatter3d": [
           {
            "line": {
             "colorbar": {
              "outlinewidth": 0,
              "ticks": ""
             }
            },
            "marker": {
             "colorbar": {
              "outlinewidth": 0,
              "ticks": ""
             }
            },
            "type": "scatter3d"
           }
          ],
          "scattercarpet": [
           {
            "marker": {
             "colorbar": {
              "outlinewidth": 0,
              "ticks": ""
             }
            },
            "type": "scattercarpet"
           }
          ],
          "scattergeo": [
           {
            "marker": {
             "colorbar": {
              "outlinewidth": 0,
              "ticks": ""
             }
            },
            "type": "scattergeo"
           }
          ],
          "scattergl": [
           {
            "marker": {
             "colorbar": {
              "outlinewidth": 0,
              "ticks": ""
             }
            },
            "type": "scattergl"
           }
          ],
          "scattermapbox": [
           {
            "marker": {
             "colorbar": {
              "outlinewidth": 0,
              "ticks": ""
             }
            },
            "type": "scattermapbox"
           }
          ],
          "scatterpolar": [
           {
            "marker": {
             "colorbar": {
              "outlinewidth": 0,
              "ticks": ""
             }
            },
            "type": "scatterpolar"
           }
          ],
          "scatterpolargl": [
           {
            "marker": {
             "colorbar": {
              "outlinewidth": 0,
              "ticks": ""
             }
            },
            "type": "scatterpolargl"
           }
          ],
          "scatterternary": [
           {
            "marker": {
             "colorbar": {
              "outlinewidth": 0,
              "ticks": ""
             }
            },
            "type": "scatterternary"
           }
          ],
          "surface": [
           {
            "colorbar": {
             "outlinewidth": 0,
             "ticks": ""
            },
            "colorscale": [
             [
              0,
              "#0d0887"
             ],
             [
              0.1111111111111111,
              "#46039f"
             ],
             [
              0.2222222222222222,
              "#7201a8"
             ],
             [
              0.3333333333333333,
              "#9c179e"
             ],
             [
              0.4444444444444444,
              "#bd3786"
             ],
             [
              0.5555555555555556,
              "#d8576b"
             ],
             [
              0.6666666666666666,
              "#ed7953"
             ],
             [
              0.7777777777777778,
              "#fb9f3a"
             ],
             [
              0.8888888888888888,
              "#fdca26"
             ],
             [
              1,
              "#f0f921"
             ]
            ],
            "type": "surface"
           }
          ],
          "table": [
           {
            "cells": {
             "fill": {
              "color": "#EBF0F8"
             },
             "line": {
              "color": "white"
             }
            },
            "header": {
             "fill": {
              "color": "#C8D4E3"
             },
             "line": {
              "color": "white"
             }
            },
            "type": "table"
           }
          ]
         },
         "layout": {
          "annotationdefaults": {
           "arrowcolor": "#2a3f5f",
           "arrowhead": 0,
           "arrowwidth": 1
          },
          "autotypenumbers": "strict",
          "coloraxis": {
           "colorbar": {
            "outlinewidth": 0,
            "ticks": ""
           }
          },
          "colorscale": {
           "diverging": [
            [
             0,
             "#8e0152"
            ],
            [
             0.1,
             "#c51b7d"
            ],
            [
             0.2,
             "#de77ae"
            ],
            [
             0.3,
             "#f1b6da"
            ],
            [
             0.4,
             "#fde0ef"
            ],
            [
             0.5,
             "#f7f7f7"
            ],
            [
             0.6,
             "#e6f5d0"
            ],
            [
             0.7,
             "#b8e186"
            ],
            [
             0.8,
             "#7fbc41"
            ],
            [
             0.9,
             "#4d9221"
            ],
            [
             1,
             "#276419"
            ]
           ],
           "sequential": [
            [
             0,
             "#0d0887"
            ],
            [
             0.1111111111111111,
             "#46039f"
            ],
            [
             0.2222222222222222,
             "#7201a8"
            ],
            [
             0.3333333333333333,
             "#9c179e"
            ],
            [
             0.4444444444444444,
             "#bd3786"
            ],
            [
             0.5555555555555556,
             "#d8576b"
            ],
            [
             0.6666666666666666,
             "#ed7953"
            ],
            [
             0.7777777777777778,
             "#fb9f3a"
            ],
            [
             0.8888888888888888,
             "#fdca26"
            ],
            [
             1,
             "#f0f921"
            ]
           ],
           "sequentialminus": [
            [
             0,
             "#0d0887"
            ],
            [
             0.1111111111111111,
             "#46039f"
            ],
            [
             0.2222222222222222,
             "#7201a8"
            ],
            [
             0.3333333333333333,
             "#9c179e"
            ],
            [
             0.4444444444444444,
             "#bd3786"
            ],
            [
             0.5555555555555556,
             "#d8576b"
            ],
            [
             0.6666666666666666,
             "#ed7953"
            ],
            [
             0.7777777777777778,
             "#fb9f3a"
            ],
            [
             0.8888888888888888,
             "#fdca26"
            ],
            [
             1,
             "#f0f921"
            ]
           ]
          },
          "colorway": [
           "#636efa",
           "#EF553B",
           "#00cc96",
           "#ab63fa",
           "#FFA15A",
           "#19d3f3",
           "#FF6692",
           "#B6E880",
           "#FF97FF",
           "#FECB52"
          ],
          "font": {
           "color": "#2a3f5f"
          },
          "geo": {
           "bgcolor": "white",
           "lakecolor": "white",
           "landcolor": "#E5ECF6",
           "showlakes": true,
           "showland": true,
           "subunitcolor": "white"
          },
          "hoverlabel": {
           "align": "left"
          },
          "hovermode": "closest",
          "mapbox": {
           "style": "light"
          },
          "paper_bgcolor": "white",
          "plot_bgcolor": "#E5ECF6",
          "polar": {
           "angularaxis": {
            "gridcolor": "white",
            "linecolor": "white",
            "ticks": ""
           },
           "bgcolor": "#E5ECF6",
           "radialaxis": {
            "gridcolor": "white",
            "linecolor": "white",
            "ticks": ""
           }
          },
          "scene": {
           "xaxis": {
            "backgroundcolor": "#E5ECF6",
            "gridcolor": "white",
            "gridwidth": 2,
            "linecolor": "white",
            "showbackground": true,
            "ticks": "",
            "zerolinecolor": "white"
           },
           "yaxis": {
            "backgroundcolor": "#E5ECF6",
            "gridcolor": "white",
            "gridwidth": 2,
            "linecolor": "white",
            "showbackground": true,
            "ticks": "",
            "zerolinecolor": "white"
           },
           "zaxis": {
            "backgroundcolor": "#E5ECF6",
            "gridcolor": "white",
            "gridwidth": 2,
            "linecolor": "white",
            "showbackground": true,
            "ticks": "",
            "zerolinecolor": "white"
           }
          },
          "shapedefaults": {
           "line": {
            "color": "#2a3f5f"
           }
          },
          "ternary": {
           "aaxis": {
            "gridcolor": "white",
            "linecolor": "white",
            "ticks": ""
           },
           "baxis": {
            "gridcolor": "white",
            "linecolor": "white",
            "ticks": ""
           },
           "bgcolor": "#E5ECF6",
           "caxis": {
            "gridcolor": "white",
            "linecolor": "white",
            "ticks": ""
           }
          },
          "title": {
           "x": 0.05
          },
          "xaxis": {
           "automargin": true,
           "gridcolor": "white",
           "linecolor": "white",
           "ticks": "",
           "title": {
            "standoff": 15
           },
           "zerolinecolor": "white",
           "zerolinewidth": 2
          },
          "yaxis": {
           "automargin": true,
           "gridcolor": "white",
           "linecolor": "white",
           "ticks": "",
           "title": {
            "standoff": 15
           },
           "zerolinecolor": "white",
           "zerolinewidth": 2
          }
         }
        },
        "title": {
         "text": "Population Based on Location"
        },
        "xaxis": {
         "anchor": "y",
         "domain": [
          0,
          1
         ],
         "title": {
          "text": "Population"
         }
        },
        "yaxis": {
         "anchor": "x",
         "domain": [
          0,
          1
         ],
         "title": {
          "text": "Neighborhood"
         }
        }
       }
      }
     },
     "metadata": {},
     "output_type": "display_data"
    }
   ],
   "source": [
    "import plotly.express as px\n",
    "#pop3 = px.data.gapminder().query(\"country == 'Canada'\")\n",
    "fig = px.bar(pop3, x='Population', y='Neighborhood', orientation='h')\n",
    "fig.update_layout(\n",
    "    title ='Population Based on Location'\n",
    ")\n",
    "fig.show()"
   ]
  },
  {
   "cell_type": "code",
   "execution_count": 69,
   "metadata": {},
   "outputs": [
    {
     "data": {
      "application/vnd.plotly.v1+json": {
       "config": {
        "plotlyServerURL": "https://plot.ly"
       },
       "data": [
        {
         "marker": {
          "color": "rgb(55, 83, 109)"
         },
         "name": "Poverty",
         "type": "bar",
         "x": [
          "Flushing/Whitestone",
          "Jamaica/Hollis",
          "Washington Heights/Inwood",
          "Flatlands/Canarsie",
          "Upper East Side",
          "Queens Village",
          "Upper West Side",
          "Bensonhurst",
          "Ridgewood/Maspeth",
          "Morrisania/Crotona",
          "Belmont/East Tremont",
          "Parkchester/Soundview",
          "St. George/Stapleton",
          "East New York/Starrett City",
          "Sheepshead Bay",
          "Jackson Heights",
          "Astoria",
          "Hillcrest/Fresh Meadows",
          "Lower East Side/Chinatown",
          "Tottenville/Great Kills",
          "Hunts Point/Longwood",
          "Mott Haven/Melrose",
          "Midtown",
          "Clinton/Chelsea",
          "Kew Gardens/Woodhaven",
          "Greenpoint/Williamsburg",
          "Flatbush/Midwood",
          "Williamsbridge/Baychester",
          "Highbridge/Concourse",
          "Stuyvesant Town/Turtle Bay",
          "Financial District",
          "Greenwich Village/Soho",
          "Fordham/University Heights",
          "Central Harlem",
          "Borough Park",
          "Elmhurst/Corona",
          "Sunset Park",
          "South Beach/Willowbrook",
          "Kingsbridge Heights/Bedford",
          "Bedford Stuyvesant",
          "Crown Heights/Prospect Heights",
          "Bushwick",
          "East Flatbush",
          "South Ozone Park/Howard Beach",
          "Morningside Heights/Hamilton",
          "Fort Greene/Brooklyn Heights",
          "Woodside/Sunnyside",
          "Rockaway/Broad Channel",
          "East Harlem",
          "Bay Ridge/Dyker Heights",
          "Coney Island",
          "Morris Park/Bronxdale",
          "Rego Park/Forest Hills",
          "Bayside/Little Neck",
          "Park Slope/Carroll Gardens",
          "Throgs Neck/Co-op City",
          "Riverdale/Fieldston",
          "South Crown Heights/Lefferts Gardens",
          "Brownsville"
         ],
         "y": [
          16.2,
          11.3,
          18.7,
          8.9,
          6.1,
          8.9,
          9.9,
          17.3,
          8.4,
          35.8,
          35.8,
          24.7,
          17.9,
          24.7,
          14,
          13.5,
          13,
          12.3,
          27.3,
          6.6,
          44.2,
          44.2,
          13.8,
          13.8,
          12.2,
          23.3,
          16.8,
          14.6,
          36.4,
          8,
          8.8,
          8.8,
          36.4,
          23.5,
          30.8,
          15.6,
          22.1,
          10.2,
          32.9,
          24.4,
          20,
          27.1,
          13.7,
          10.4,
          22.7,
          14.9,
          9.3,
          19.8,
          31.5,
          15.2,
          24.8,
          16.4,
          8.1,
          9.8,
          7.8,
          10.2,
          18.5,
          19.1,
          39.9
         ]
        },
        {
         "marker": {
          "color": "rgb(26, 118, 255)"
         },
         "name": "Unemployment",
         "type": "bar",
         "x": [
          "Flushing/Whitestone",
          "Jamaica/Hollis",
          "Washington Heights/Inwood",
          "Flatlands/Canarsie",
          "Upper East Side",
          "Queens Village",
          "Upper West Side",
          "Bensonhurst",
          "Ridgewood/Maspeth",
          "Morrisania/Crotona",
          "Belmont/East Tremont",
          "Parkchester/Soundview",
          "St. George/Stapleton",
          "East New York/Starrett City",
          "Sheepshead Bay",
          "Jackson Heights",
          "Astoria",
          "Hillcrest/Fresh Meadows",
          "Lower East Side/Chinatown",
          "Tottenville/Great Kills",
          "Hunts Point/Longwood",
          "Mott Haven/Melrose",
          "Midtown",
          "Clinton/Chelsea",
          "Kew Gardens/Woodhaven",
          "Greenpoint/Williamsburg",
          "Flatbush/Midwood",
          "Williamsbridge/Baychester",
          "Highbridge/Concourse",
          "Stuyvesant Town/Turtle Bay",
          "Financial District",
          "Greenwich Village/Soho",
          "Fordham/University Heights",
          "Central Harlem",
          "Borough Park",
          "Elmhurst/Corona",
          "Sunset Park",
          "South Beach/Willowbrook",
          "Kingsbridge Heights/Bedford",
          "Bedford Stuyvesant",
          "Crown Heights/Prospect Heights",
          "Bushwick",
          "East Flatbush",
          "South Ozone Park/Howard Beach",
          "Morningside Heights/Hamilton",
          "Fort Greene/Brooklyn Heights",
          "Woodside/Sunnyside",
          "Rockaway/Broad Channel",
          "East Harlem",
          "Bay Ridge/Dyker Heights",
          "Coney Island",
          "Morris Park/Bronxdale",
          "Rego Park/Forest Hills",
          "Bayside/Little Neck",
          "Park Slope/Carroll Gardens",
          "Throgs Neck/Co-op City",
          "Riverdale/Fieldston",
          "South Crown Heights/Lefferts Gardens",
          "Brownsville"
         ],
         "y": [
          2.56,
          7.35,
          8.69,
          5.33,
          2.1,
          7.46,
          4.76,
          6.1,
          4.83,
          14.45,
          14.45,
          8.42,
          3.9,
          8.98,
          5.16,
          4.19,
          4.61,
          5.77,
          6.28,
          4.37,
          13.54,
          13.54,
          4.82,
          4.82,
          5.94,
          5.49,
          6.18,
          7.18,
          12.52,
          3.88,
          2.55,
          2.55,
          15.97,
          8.23,
          5.22,
          4.26,
          6.69,
          4.77,
          10.65,
          4.73,
          6.75,
          5.23,
          5.86,
          5.4,
          5.75,
          5.55,
          2.98,
          10.01,
          8.89,
          4.73,
          6.12,
          9.88,
          3,
          4.86,
          4.2,
          7.67,
          8.2,
          7.8,
          20.75
         ]
        }
       ],
       "layout": {
        "bargap": 0.15,
        "bargroupgap": 0.1,
        "barmode": "group",
        "legend": {
         "bgcolor": "rgba(255, 255, 255, 0)",
         "bordercolor": "rgba(255, 255, 255, 0)",
         "x": 0,
         "y": 1
        },
        "template": {
         "data": {
          "bar": [
           {
            "error_x": {
             "color": "#2a3f5f"
            },
            "error_y": {
             "color": "#2a3f5f"
            },
            "marker": {
             "line": {
              "color": "#E5ECF6",
              "width": 0.5
             },
             "pattern": {
              "fillmode": "overlay",
              "size": 10,
              "solidity": 0.2
             }
            },
            "type": "bar"
           }
          ],
          "barpolar": [
           {
            "marker": {
             "line": {
              "color": "#E5ECF6",
              "width": 0.5
             },
             "pattern": {
              "fillmode": "overlay",
              "size": 10,
              "solidity": 0.2
             }
            },
            "type": "barpolar"
           }
          ],
          "carpet": [
           {
            "aaxis": {
             "endlinecolor": "#2a3f5f",
             "gridcolor": "white",
             "linecolor": "white",
             "minorgridcolor": "white",
             "startlinecolor": "#2a3f5f"
            },
            "baxis": {
             "endlinecolor": "#2a3f5f",
             "gridcolor": "white",
             "linecolor": "white",
             "minorgridcolor": "white",
             "startlinecolor": "#2a3f5f"
            },
            "type": "carpet"
           }
          ],
          "choropleth": [
           {
            "colorbar": {
             "outlinewidth": 0,
             "ticks": ""
            },
            "type": "choropleth"
           }
          ],
          "contour": [
           {
            "colorbar": {
             "outlinewidth": 0,
             "ticks": ""
            },
            "colorscale": [
             [
              0,
              "#0d0887"
             ],
             [
              0.1111111111111111,
              "#46039f"
             ],
             [
              0.2222222222222222,
              "#7201a8"
             ],
             [
              0.3333333333333333,
              "#9c179e"
             ],
             [
              0.4444444444444444,
              "#bd3786"
             ],
             [
              0.5555555555555556,
              "#d8576b"
             ],
             [
              0.6666666666666666,
              "#ed7953"
             ],
             [
              0.7777777777777778,
              "#fb9f3a"
             ],
             [
              0.8888888888888888,
              "#fdca26"
             ],
             [
              1,
              "#f0f921"
             ]
            ],
            "type": "contour"
           }
          ],
          "contourcarpet": [
           {
            "colorbar": {
             "outlinewidth": 0,
             "ticks": ""
            },
            "type": "contourcarpet"
           }
          ],
          "heatmap": [
           {
            "colorbar": {
             "outlinewidth": 0,
             "ticks": ""
            },
            "colorscale": [
             [
              0,
              "#0d0887"
             ],
             [
              0.1111111111111111,
              "#46039f"
             ],
             [
              0.2222222222222222,
              "#7201a8"
             ],
             [
              0.3333333333333333,
              "#9c179e"
             ],
             [
              0.4444444444444444,
              "#bd3786"
             ],
             [
              0.5555555555555556,
              "#d8576b"
             ],
             [
              0.6666666666666666,
              "#ed7953"
             ],
             [
              0.7777777777777778,
              "#fb9f3a"
             ],
             [
              0.8888888888888888,
              "#fdca26"
             ],
             [
              1,
              "#f0f921"
             ]
            ],
            "type": "heatmap"
           }
          ],
          "heatmapgl": [
           {
            "colorbar": {
             "outlinewidth": 0,
             "ticks": ""
            },
            "colorscale": [
             [
              0,
              "#0d0887"
             ],
             [
              0.1111111111111111,
              "#46039f"
             ],
             [
              0.2222222222222222,
              "#7201a8"
             ],
             [
              0.3333333333333333,
              "#9c179e"
             ],
             [
              0.4444444444444444,
              "#bd3786"
             ],
             [
              0.5555555555555556,
              "#d8576b"
             ],
             [
              0.6666666666666666,
              "#ed7953"
             ],
             [
              0.7777777777777778,
              "#fb9f3a"
             ],
             [
              0.8888888888888888,
              "#fdca26"
             ],
             [
              1,
              "#f0f921"
             ]
            ],
            "type": "heatmapgl"
           }
          ],
          "histogram": [
           {
            "marker": {
             "pattern": {
              "fillmode": "overlay",
              "size": 10,
              "solidity": 0.2
             }
            },
            "type": "histogram"
           }
          ],
          "histogram2d": [
           {
            "colorbar": {
             "outlinewidth": 0,
             "ticks": ""
            },
            "colorscale": [
             [
              0,
              "#0d0887"
             ],
             [
              0.1111111111111111,
              "#46039f"
             ],
             [
              0.2222222222222222,
              "#7201a8"
             ],
             [
              0.3333333333333333,
              "#9c179e"
             ],
             [
              0.4444444444444444,
              "#bd3786"
             ],
             [
              0.5555555555555556,
              "#d8576b"
             ],
             [
              0.6666666666666666,
              "#ed7953"
             ],
             [
              0.7777777777777778,
              "#fb9f3a"
             ],
             [
              0.8888888888888888,
              "#fdca26"
             ],
             [
              1,
              "#f0f921"
             ]
            ],
            "type": "histogram2d"
           }
          ],
          "histogram2dcontour": [
           {
            "colorbar": {
             "outlinewidth": 0,
             "ticks": ""
            },
            "colorscale": [
             [
              0,
              "#0d0887"
             ],
             [
              0.1111111111111111,
              "#46039f"
             ],
             [
              0.2222222222222222,
              "#7201a8"
             ],
             [
              0.3333333333333333,
              "#9c179e"
             ],
             [
              0.4444444444444444,
              "#bd3786"
             ],
             [
              0.5555555555555556,
              "#d8576b"
             ],
             [
              0.6666666666666666,
              "#ed7953"
             ],
             [
              0.7777777777777778,
              "#fb9f3a"
             ],
             [
              0.8888888888888888,
              "#fdca26"
             ],
             [
              1,
              "#f0f921"
             ]
            ],
            "type": "histogram2dcontour"
           }
          ],
          "mesh3d": [
           {
            "colorbar": {
             "outlinewidth": 0,
             "ticks": ""
            },
            "type": "mesh3d"
           }
          ],
          "parcoords": [
           {
            "line": {
             "colorbar": {
              "outlinewidth": 0,
              "ticks": ""
             }
            },
            "type": "parcoords"
           }
          ],
          "pie": [
           {
            "automargin": true,
            "type": "pie"
           }
          ],
          "scatter": [
           {
            "marker": {
             "colorbar": {
              "outlinewidth": 0,
              "ticks": ""
             }
            },
            "type": "scatter"
           }
          ],
          "scatter3d": [
           {
            "line": {
             "colorbar": {
              "outlinewidth": 0,
              "ticks": ""
             }
            },
            "marker": {
             "colorbar": {
              "outlinewidth": 0,
              "ticks": ""
             }
            },
            "type": "scatter3d"
           }
          ],
          "scattercarpet": [
           {
            "marker": {
             "colorbar": {
              "outlinewidth": 0,
              "ticks": ""
             }
            },
            "type": "scattercarpet"
           }
          ],
          "scattergeo": [
           {
            "marker": {
             "colorbar": {
              "outlinewidth": 0,
              "ticks": ""
             }
            },
            "type": "scattergeo"
           }
          ],
          "scattergl": [
           {
            "marker": {
             "colorbar": {
              "outlinewidth": 0,
              "ticks": ""
             }
            },
            "type": "scattergl"
           }
          ],
          "scattermapbox": [
           {
            "marker": {
             "colorbar": {
              "outlinewidth": 0,
              "ticks": ""
             }
            },
            "type": "scattermapbox"
           }
          ],
          "scatterpolar": [
           {
            "marker": {
             "colorbar": {
              "outlinewidth": 0,
              "ticks": ""
             }
            },
            "type": "scatterpolar"
           }
          ],
          "scatterpolargl": [
           {
            "marker": {
             "colorbar": {
              "outlinewidth": 0,
              "ticks": ""
             }
            },
            "type": "scatterpolargl"
           }
          ],
          "scatterternary": [
           {
            "marker": {
             "colorbar": {
              "outlinewidth": 0,
              "ticks": ""
             }
            },
            "type": "scatterternary"
           }
          ],
          "surface": [
           {
            "colorbar": {
             "outlinewidth": 0,
             "ticks": ""
            },
            "colorscale": [
             [
              0,
              "#0d0887"
             ],
             [
              0.1111111111111111,
              "#46039f"
             ],
             [
              0.2222222222222222,
              "#7201a8"
             ],
             [
              0.3333333333333333,
              "#9c179e"
             ],
             [
              0.4444444444444444,
              "#bd3786"
             ],
             [
              0.5555555555555556,
              "#d8576b"
             ],
             [
              0.6666666666666666,
              "#ed7953"
             ],
             [
              0.7777777777777778,
              "#fb9f3a"
             ],
             [
              0.8888888888888888,
              "#fdca26"
             ],
             [
              1,
              "#f0f921"
             ]
            ],
            "type": "surface"
           }
          ],
          "table": [
           {
            "cells": {
             "fill": {
              "color": "#EBF0F8"
             },
             "line": {
              "color": "white"
             }
            },
            "header": {
             "fill": {
              "color": "#C8D4E3"
             },
             "line": {
              "color": "white"
             }
            },
            "type": "table"
           }
          ]
         },
         "layout": {
          "annotationdefaults": {
           "arrowcolor": "#2a3f5f",
           "arrowhead": 0,
           "arrowwidth": 1
          },
          "autotypenumbers": "strict",
          "coloraxis": {
           "colorbar": {
            "outlinewidth": 0,
            "ticks": ""
           }
          },
          "colorscale": {
           "diverging": [
            [
             0,
             "#8e0152"
            ],
            [
             0.1,
             "#c51b7d"
            ],
            [
             0.2,
             "#de77ae"
            ],
            [
             0.3,
             "#f1b6da"
            ],
            [
             0.4,
             "#fde0ef"
            ],
            [
             0.5,
             "#f7f7f7"
            ],
            [
             0.6,
             "#e6f5d0"
            ],
            [
             0.7,
             "#b8e186"
            ],
            [
             0.8,
             "#7fbc41"
            ],
            [
             0.9,
             "#4d9221"
            ],
            [
             1,
             "#276419"
            ]
           ],
           "sequential": [
            [
             0,
             "#0d0887"
            ],
            [
             0.1111111111111111,
             "#46039f"
            ],
            [
             0.2222222222222222,
             "#7201a8"
            ],
            [
             0.3333333333333333,
             "#9c179e"
            ],
            [
             0.4444444444444444,
             "#bd3786"
            ],
            [
             0.5555555555555556,
             "#d8576b"
            ],
            [
             0.6666666666666666,
             "#ed7953"
            ],
            [
             0.7777777777777778,
             "#fb9f3a"
            ],
            [
             0.8888888888888888,
             "#fdca26"
            ],
            [
             1,
             "#f0f921"
            ]
           ],
           "sequentialminus": [
            [
             0,
             "#0d0887"
            ],
            [
             0.1111111111111111,
             "#46039f"
            ],
            [
             0.2222222222222222,
             "#7201a8"
            ],
            [
             0.3333333333333333,
             "#9c179e"
            ],
            [
             0.4444444444444444,
             "#bd3786"
            ],
            [
             0.5555555555555556,
             "#d8576b"
            ],
            [
             0.6666666666666666,
             "#ed7953"
            ],
            [
             0.7777777777777778,
             "#fb9f3a"
            ],
            [
             0.8888888888888888,
             "#fdca26"
            ],
            [
             1,
             "#f0f921"
            ]
           ]
          },
          "colorway": [
           "#636efa",
           "#EF553B",
           "#00cc96",
           "#ab63fa",
           "#FFA15A",
           "#19d3f3",
           "#FF6692",
           "#B6E880",
           "#FF97FF",
           "#FECB52"
          ],
          "font": {
           "color": "#2a3f5f"
          },
          "geo": {
           "bgcolor": "white",
           "lakecolor": "white",
           "landcolor": "#E5ECF6",
           "showlakes": true,
           "showland": true,
           "subunitcolor": "white"
          },
          "hoverlabel": {
           "align": "left"
          },
          "hovermode": "closest",
          "mapbox": {
           "style": "light"
          },
          "paper_bgcolor": "white",
          "plot_bgcolor": "#E5ECF6",
          "polar": {
           "angularaxis": {
            "gridcolor": "white",
            "linecolor": "white",
            "ticks": ""
           },
           "bgcolor": "#E5ECF6",
           "radialaxis": {
            "gridcolor": "white",
            "linecolor": "white",
            "ticks": ""
           }
          },
          "scene": {
           "xaxis": {
            "backgroundcolor": "#E5ECF6",
            "gridcolor": "white",
            "gridwidth": 2,
            "linecolor": "white",
            "showbackground": true,
            "ticks": "",
            "zerolinecolor": "white"
           },
           "yaxis": {
            "backgroundcolor": "#E5ECF6",
            "gridcolor": "white",
            "gridwidth": 2,
            "linecolor": "white",
            "showbackground": true,
            "ticks": "",
            "zerolinecolor": "white"
           },
           "zaxis": {
            "backgroundcolor": "#E5ECF6",
            "gridcolor": "white",
            "gridwidth": 2,
            "linecolor": "white",
            "showbackground": true,
            "ticks": "",
            "zerolinecolor": "white"
           }
          },
          "shapedefaults": {
           "line": {
            "color": "#2a3f5f"
           }
          },
          "ternary": {
           "aaxis": {
            "gridcolor": "white",
            "linecolor": "white",
            "ticks": ""
           },
           "baxis": {
            "gridcolor": "white",
            "linecolor": "white",
            "ticks": ""
           },
           "bgcolor": "#E5ECF6",
           "caxis": {
            "gridcolor": "white",
            "linecolor": "white",
            "ticks": ""
           }
          },
          "title": {
           "x": 0.05
          },
          "xaxis": {
           "automargin": true,
           "gridcolor": "white",
           "linecolor": "white",
           "ticks": "",
           "title": {
            "standoff": 15
           },
           "zerolinecolor": "white",
           "zerolinewidth": 2
          },
          "yaxis": {
           "automargin": true,
           "gridcolor": "white",
           "linecolor": "white",
           "ticks": "",
           "title": {
            "standoff": 15
           },
           "zerolinecolor": "white",
           "zerolinewidth": 2
          }
         }
        },
        "title": {
         "text": "Unemployment vs Poverty Rate"
        },
        "xaxis": {
         "tickfont": {
          "size": 14
         }
        },
        "yaxis": {
         "tickfont": {
          "size": 14
         },
         "title": {
          "font": {
           "size": 16
          },
          "text": "New York Population"
         }
        }
       }
      }
     },
     "metadata": {},
     "output_type": "display_data"
    }
   ],
   "source": [
    "import plotly.graph_objects as go\n",
    "\n",
    "fig = go.Figure()\n",
    "fig.add_trace(go.Bar(x=pop3['Neighborhood'],\n",
    "                y=pop3['Poverty rate'],\n",
    "                name='Poverty',\n",
    "                marker_color='rgb(55, 83, 109)'\n",
    "                ))\n",
    "fig.add_trace(go.Bar(x=pop3['Neighborhood'],\n",
    "                y=pop3['Unemployment rate'],\n",
    "                name='Unemployment',\n",
    "                marker_color='rgb(26, 118, 255)'\n",
    "                ))\n",
    "\n",
    "fig.update_layout(\n",
    "    title='Unemployment vs Poverty Rate',\n",
    "    xaxis_tickfont_size=14,\n",
    "    yaxis=dict(\n",
    "        title='New York Population',\n",
    "        titlefont_size=16,\n",
    "        tickfont_size=14,\n",
    "    ),\n",
    "    legend=dict(\n",
    "        x=0,\n",
    "        y=1.0,\n",
    "        bgcolor='rgba(255, 255, 255, 0)',\n",
    "        bordercolor='rgba(255, 255, 255, 0)'\n",
    "    ),\n",
    "    barmode='group',\n",
    "    bargap=0.15, # gap between bars of adjacent location coordinates.\n",
    "    bargroupgap=0.1 # gap between bars of the same location coordinate.\n",
    ")\n",
    "fig.show()"
   ]
  },
  {
   "cell_type": "code",
   "execution_count": null,
   "metadata": {},
   "outputs": [],
   "source": []
  }
 ],
 "metadata": {
  "kernelspec": {
   "display_name": "base",
   "language": "python",
   "name": "python3"
  },
  "language_info": {
   "codemirror_mode": {
    "name": "ipython",
    "version": 3
   },
   "file_extension": ".py",
   "mimetype": "text/x-python",
   "name": "python",
   "nbconvert_exporter": "python",
   "pygments_lexer": "ipython3",
   "version": "3.9.12"
  },
  "orig_nbformat": 4,
  "vscode": {
   "interpreter": {
    "hash": "6d9a2f6a8d5b2d61f3d63b4e6547be80f2ef52955d5daa9bf6477fe13201ade7"
   }
  }
 },
 "nbformat": 4,
 "nbformat_minor": 2
}
